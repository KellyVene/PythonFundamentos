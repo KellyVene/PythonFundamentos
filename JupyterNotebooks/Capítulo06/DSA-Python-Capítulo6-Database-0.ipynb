{
 "cells": [
  {
   "cell_type": "markdown",
   "metadata": {},
   "source": [
    "# <font color='blue'>Data Science Academy - Python Fundamentos - Capítulo 6</font>\n",
    "\n",
    "## Download: http://github.com/dsacademybr"
   ]
  },
  {
   "cell_type": "markdown",
   "metadata": {},
   "source": [
    "### Criando o Banco de Dados"
   ]
  },
  {
   "cell_type": "code",
   "execution_count": 4,
   "metadata": {
    "collapsed": false
   },
   "outputs": [],
   "source": [
    "import sqlite3\n",
    " \n",
    "# Criando uma conexão\n",
    "conn = sqlite3.connect('dsa.db')    \n",
    "c = conn.cursor()\n",
    " \n",
    "# Criando uma tabela\n",
    "c.execute('''CREATE TABLE texto\n",
    "             (id TEXT, my_var1 TEXT, my_var2 INT)''')\n",
    " \n",
    "# Inserindo uma linha\n",
    "c.execute(\"INSERT INTO texto VALUES ('ID_2352532','YES', 4)\")\n",
    " \n",
    "# insert multiple lines of data\n",
    "multi_lines =[ ('ID_2352533','YES', 1),\n",
    "               ('ID_2352534','NO', 0),\n",
    "               ('ID_2352535','YES', 3),\n",
    "               ('ID_2352536','YES', 9),\n",
    "               ('ID_2352537','YES', 10) \n",
    "              ]\n",
    "c.executemany('INSERT INTO texto VALUES (?,?,?)', multi_lines)\n",
    " \n",
    "# save (commit) the changes\n",
    "conn.commit()\n",
    " \n",
    "# close connection\n",
    "conn.close()"
   ]
  },
  {
   "cell_type": "markdown",
   "metadata": {},
   "source": [
    "### Atualizando um Banco de Dados"
   ]
  },
  {
   "cell_type": "code",
   "execution_count": 5,
   "metadata": {
    "collapsed": false
   },
   "outputs": [
    {
     "name": "stdout",
     "output_type": "stream",
     "text": [
      "Total number of rows changed: 1\n",
      "Total number of rows deleted:  3\n",
      "['id', 'my_var1', 'my_var2', 'my_var3']\n"
     ]
    }
   ],
   "source": [
    "import sqlite3\n",
    " \n",
    "# make connection to existing db\n",
    "conn = sqlite3.connect('dsa.db')\n",
    "c = conn.cursor()\n",
    " \n",
    "# update field\n",
    "t = ('NO', 'ID_2352533', )\n",
    "c.execute(\"UPDATE texto SET my_var1=? WHERE id=?\", t)\n",
    "print (\"Total number of rows changed:\", conn.total_changes)\n",
    " \n",
    "# delete rows\n",
    "t = ('NO', )\n",
    "c.execute(\"DELETE FROM texto WHERE my_var1=?\", t)\n",
    "print (\"Total number of rows deleted: \", conn.total_changes)\n",
    " \n",
    "# add column\n",
    "c.execute(\"ALTER TABLE texto ADD COLUMN 'my_var3' TEXT\")\n",
    " \n",
    "# save changes\n",
    "conn.commit()\n",
    " \n",
    "# print column names\n",
    "c.execute(\"SELECT * FROM texto\")\n",
    "col_name_list = [tup[0] for tup in c.description]\n",
    "print (col_name_list)\n",
    " \n",
    "# close connection\n",
    "conn.close()"
   ]
  },
  {
   "cell_type": "markdown",
   "metadata": {},
   "source": [
    "### Consultando um Banco de Dados"
   ]
  },
  {
   "cell_type": "code",
   "execution_count": 7,
   "metadata": {
    "collapsed": false
   },
   "outputs": [
    {
     "name": "stdout",
     "output_type": "stream",
     "text": [
      "('ID_2352535', 'YES', 3, None)\n",
      "('ID_2352532', 'YES', 4, None)\n",
      "('ID_2352536', 'YES', 9, None)\n",
      "('ID_2352537', 'YES', 10, None)\n"
     ]
    },
    {
     "ename": "OperationalError",
     "evalue": "no such column: lt",
     "output_type": "error",
     "traceback": [
      "\u001b[0;31m---------------------------------------------------------------------------\u001b[0m",
      "\u001b[0;31mOperationalError\u001b[0m                          Traceback (most recent call last)",
      "\u001b[0;32m<ipython-input-7-f150d3fec0d7>\u001b[0m in \u001b[0;36m<module>\u001b[0;34m()\u001b[0m\n\u001b[1;32m     13\u001b[0m \u001b[0;31m# and have an integer value &lt;= 7 in my_var2\u001b[0m\u001b[0;34m\u001b[0m\u001b[0;34m\u001b[0m\u001b[0m\n\u001b[1;32m     14\u001b[0m \u001b[0mt\u001b[0m \u001b[0;34m=\u001b[0m \u001b[0;34m(\u001b[0m\u001b[0;34m'YES'\u001b[0m\u001b[0;34m,\u001b[0m\u001b[0;36m7\u001b[0m\u001b[0;34m,\u001b[0m\u001b[0;34m)\u001b[0m\u001b[0;34m\u001b[0m\u001b[0m\n\u001b[0;32m---> 15\u001b[0;31m \u001b[0;32mfor\u001b[0m \u001b[0mrow\u001b[0m \u001b[0;32min\u001b[0m \u001b[0mc\u001b[0m\u001b[0;34m.\u001b[0m\u001b[0mexecute\u001b[0m\u001b[0;34m(\u001b[0m\u001b[0;34m'SELECT * FROM texto WHERE my_var1=? AND my_var2 &lt;= ?'\u001b[0m\u001b[0;34m,\u001b[0m \u001b[0mt\u001b[0m\u001b[0;34m)\u001b[0m\u001b[0;34m:\u001b[0m\u001b[0;34m\u001b[0m\u001b[0m\n\u001b[0m\u001b[1;32m     16\u001b[0m     \u001b[0mprint\u001b[0m \u001b[0;34m(\u001b[0m\u001b[0mrow\u001b[0m\u001b[0;34m)\u001b[0m\u001b[0;34m\u001b[0m\u001b[0m\n\u001b[1;32m     17\u001b[0m \u001b[0;34m\u001b[0m\u001b[0m\n",
      "\u001b[0;31mOperationalError\u001b[0m: no such column: lt"
     ]
    }
   ],
   "source": [
    "import sqlite3\n",
    " \n",
    "# open existing database\n",
    "conn = sqlite3.connect('dsa.db')\n",
    " \n",
    "c = conn.cursor()\n",
    " \n",
    "# print all lines ordered by integer value in my_var2\n",
    "for row in c.execute('SELECT * FROM texto ORDER BY my_var2'):\n",
    "    print (row)\n",
    " \n",
    "# print all lines that have \"YES\" as my_var1 value \n",
    "# and have an integer value &lt;= 7 in my_var2\n",
    "t = ('YES',7,)\n",
    "for row in c.execute('SELECT * FROM texto WHERE my_var1=? AND my_var2 &lt;= ?', t):\n",
    "    print (row)\n",
    " \n",
    "# print all lines that have \"YES\" as my_var1 value \n",
    "# and have an integer value &lt;= 7 in my_var2\n",
    "t = ('YES',7,)\n",
    "c.execute('SELECT * FROM texto WHERE my_var1=? AND my_var2 &lt;= ?', t)\n",
    "rows = c.fetchall()\n",
    "for r in rows:\n",
    "    print (r)\n",
    " \n",
    "# close connection\n",
    "conn.close()\n"
   ]
  },
  {
   "cell_type": "markdown",
   "metadata": {},
   "source": [
    "# Fim"
   ]
  },
  {
   "cell_type": "markdown",
   "metadata": {},
   "source": [
    "### Obrigado - Data Science Academy - <a href=http://facebook.com/dsacademy>facebook.com/dsacademybr</a>"
   ]
  }
 ],
 "metadata": {
  "kernelspec": {
   "display_name": "Python 3",
   "language": "python",
   "name": "python3"
  },
  "language_info": {
   "codemirror_mode": {
    "name": "ipython",
    "version": 3
   },
   "file_extension": ".py",
   "mimetype": "text/x-python",
   "name": "python",
   "nbconvert_exporter": "python",
   "pygments_lexer": "ipython3",
   "version": "3.5.1"
  }
 },
 "nbformat": 4,
 "nbformat_minor": 0
}
